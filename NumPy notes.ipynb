{
 "metadata": {
  "name": "NumPy notes"
 },
 "nbformat": 3,
 "nbformat_minor": 0,
 "worksheets": [
  {
   "cells": [
    {
     "cell_type": "markdown",
     "metadata": {},
     "source": [
      "Lecture 6 notes\n",
      "-----\n",
      "\n",
      "Here are some notes on lecture 6, focusing on differences between numpy and R..."
     ]
    },
    {
     "cell_type": "code",
     "collapsed": false,
     "input": [
      "# component-wise (vectorized) operations only work on numpy arrays, not on python lists.\n",
      "x = array([1,2,3])\n",
      "sqrt(x)"
     ],
     "language": "python",
     "metadata": {},
     "outputs": [
      {
       "output_type": "pyout",
       "prompt_number": 2,
       "text": [
        "array([ 1.        ,  1.41421356,  1.73205081])"
       ]
      }
     ],
     "prompt_number": 2
    },
    {
     "cell_type": "code",
     "collapsed": false,
     "input": [
      "# component-wise multiplication works as you may expect\n",
      "cos(x) * sin(x)"
     ],
     "language": "python",
     "metadata": {},
     "outputs": [
      {
       "output_type": "pyout",
       "prompt_number": 3,
       "text": [
        "array([ 0.45464871, -0.37840125, -0.13970775])"
       ]
      }
     ],
     "prompt_number": 3
    },
    {
     "cell_type": "code",
     "collapsed": false,
     "input": [
      "# a particularly irritating point is that python uses \"**\" instead of \"^\" for exponentiation.\n",
      "# \"^\" is bitwise XOR, so it'll give you an answer, but not the right one! \n",
      "x**2"
     ],
     "language": "python",
     "metadata": {},
     "outputs": [
      {
       "output_type": "pyout",
       "prompt_number": 7,
       "text": [
        "array([1, 4, 9])"
       ]
      }
     ],
     "prompt_number": 7
    },
    {
     "cell_type": "code",
     "collapsed": false,
     "input": [
      "x^2 # this doesn't do what you might expect!"
     ],
     "language": "python",
     "metadata": {},
     "outputs": [
      {
       "output_type": "pyout",
       "prompt_number": 8,
       "text": [
        "array([3, 0, 1])"
       ]
      }
     ],
     "prompt_number": 8
    },
    {
     "cell_type": "code",
     "collapsed": false,
     "input": [
      "# specifying data type manually. \n",
      "y = array([1,2,3], dtype = complex)\n",
      "y"
     ],
     "language": "python",
     "metadata": {},
     "outputs": [
      {
       "output_type": "pyout",
       "prompt_number": 10,
       "text": [
        "array([ 1.+0.j,  2.+0.j,  3.+0.j])"
       ]
      }
     ],
     "prompt_number": 10
    },
    {
     "cell_type": "code",
     "collapsed": false,
     "input": [
      "A = array([[1.,2],[3,4],[5,6]])\n",
      "A.shape"
     ],
     "language": "python",
     "metadata": {},
     "outputs": [
      {
       "output_type": "pyout",
       "prompt_number": 11,
       "text": [
        "(3, 2)"
       ]
      }
     ],
     "prompt_number": 11
    },
    {
     "cell_type": "code",
     "collapsed": false,
     "input": [
      "# transpose works like in R. \n",
      "# As in R, there's no difference between a row vector and a column vector;\n",
      "# a 1D array is just a vector.\n",
      "A.T"
     ],
     "language": "python",
     "metadata": {},
     "outputs": [
      {
       "output_type": "pyout",
       "prompt_number": 12,
       "text": [
        "array([[ 1.,  3.,  5.],\n",
        "       [ 2.,  4.,  6.]])"
       ]
      }
     ],
     "prompt_number": 12
    },
    {
     "cell_type": "code",
     "collapsed": false,
     "input": [
      "# this function is only here because it's pretty. \n",
      "x = linspace(0., 3, 1000)\n",
      "y = x**2 - 2.*cos(x**3)\n",
      "plot(x,y)"
     ],
     "language": "python",
     "metadata": {},
     "outputs": [
      {
       "output_type": "pyout",
       "prompt_number": 19,
       "text": [
        "[<matplotlib.lines.Line2D at 0x10d6cb0d0>]"
       ]
      },
      {
       "output_type": "display_data",
       "png": "[encoded data removed]"
      }
     ],
     "prompt_number": 19
    },
    {
     "cell_type": "code",
     "collapsed": false,
     "input": [
      "# you can make an array of ones of as many dimensions as desired.\n",
      "# it takes a tuple as an argument.\n",
      "A = ones((4,3,2))\n",
      "A"
     ],
     "language": "python",
     "metadata": {},
     "outputs": [
      {
       "output_type": "pyout",
       "prompt_number": 20,
       "text": [
        "array([[[ 1.,  1.],\n",
        "        [ 1.,  1.],\n",
        "        [ 1.,  1.]],\n",
        "\n",
        "       [[ 1.,  1.],\n",
        "        [ 1.,  1.],\n",
        "        [ 1.,  1.]],\n",
        "\n",
        "       [[ 1.,  1.],\n",
        "        [ 1.,  1.],\n",
        "        [ 1.,  1.]],\n",
        "\n",
        "       [[ 1.,  1.],\n",
        "        [ 1.,  1.],\n",
        "        [ 1.,  1.]]])"
       ]
      }
     ],
     "prompt_number": 20
    },
    {
     "cell_type": "code",
     "collapsed": false,
     "input": [
      "# in numpy, rank refers to the number of subscripts to index into it (number of dimensions)\n",
      "rank(A)"
     ],
     "language": "python",
     "metadata": {},
     "outputs": [
      {
       "output_type": "pyout",
       "prompt_number": 22,
       "text": [
        "3"
       ]
      }
     ],
     "prompt_number": 22
    },
    {
     "cell_type": "code",
     "collapsed": false,
     "input": [
      "A[0,1,1]"
     ],
     "language": "python",
     "metadata": {},
     "outputs": [
      {
       "output_type": "pyout",
       "prompt_number": 23,
       "text": [
        "1.0"
       ]
      }
     ],
     "prompt_number": 23
    },
    {
     "cell_type": "code",
     "collapsed": false,
     "input": [
      "# solving linear systems of equations\n",
      "A = array([[1.,2], [3,4]])\n",
      "b = array([26., 60])\n",
      "# solve Ax = b:\n",
      "from numpy.linalg import solve\n",
      "solve(A,b)"
     ],
     "language": "python",
     "metadata": {},
     "outputs": [
      {
       "output_type": "pyout",
       "prompt_number": 24,
       "text": [
        "array([ 8.,  9.])"
       ]
      }
     ],
     "prompt_number": 24
    },
    {
     "cell_type": "markdown",
     "metadata": {},
     "source": [
      "Dear OSX, \n",
      "\n",
      "You may have noticed that I never actually want to type \"bumpy\". Like, never, not once ever have I typed the word \"bumpy\" on this computer. So you can stop trying to auto-correct \"numpy\" now. \n",
      "\n",
      "Thanks."
     ]
    },
    {
     "cell_type": "code",
     "collapsed": false,
     "input": [
      "# here's an example of working with a function that returns 2 things as a tuple.\n",
      "# give each one its own name to unpack it.\n",
      "from numpy.linalg import eig\n",
      "evals, evecs = eig(A)\n",
      "evals"
     ],
     "language": "python",
     "metadata": {},
     "outputs": [
      {
       "output_type": "pyout",
       "prompt_number": 28,
       "text": [
        "array([-0.37228132,  5.37228132])"
       ]
      }
     ],
     "prompt_number": 28
    },
    {
     "cell_type": "code",
     "collapsed": false,
     "input": [
      "evecs"
     ],
     "language": "python",
     "metadata": {},
     "outputs": [
      {
       "output_type": "pyout",
       "prompt_number": 29,
       "text": [
        "array([[-0.82456484, -0.41597356],\n",
        "       [ 0.56576746, -0.90937671]])"
       ]
      }
     ],
     "prompt_number": 29
    },
    {
     "cell_type": "code",
     "collapsed": false,
     "input": [
      "# quadrature (numerical integration) in scipy:\n",
      "from scipy.integrate import quad\n",
      "def f(x):\n",
      "    return x**2\n",
      "quad(f, 0., 2.) # function and endpoints; returns a value and an error estimate as a tuple."
     ],
     "language": "python",
     "metadata": {},
     "outputs": [
      {
       "output_type": "pyout",
       "prompt_number": 30,
       "text": [
        "(2.666666666666667, 2.960594732333751e-14)"
       ]
      }
     ],
     "prompt_number": 30
    },
    {
     "cell_type": "code",
     "collapsed": false,
     "input": [
      "# lambda/anonymous functions \n",
      "quad(lambda x: x**2, 0., 2.)"
     ],
     "language": "python",
     "metadata": {},
     "outputs": [
      {
       "output_type": "pyout",
       "prompt_number": 31,
       "text": [
        "(2.666666666666667, 2.960594732333751e-14)"
       ]
      }
     ],
     "prompt_number": 31
    },
    {
     "cell_type": "code",
     "collapsed": false,
     "input": [
      "# running tests using __name__ == \"__main__\" vs. by importing and running\n",
      "# import and run\n",
      "import mysqrt\n",
      "mysqrt.test()"
     ],
     "language": "python",
     "metadata": {},
     "outputs": [
      {
       "output_type": "stream",
       "stream": "stdout",
       "text": [
        "testing x =    0.000000000000000\n",
        "s = 0.000000000000000e+00, numpy sqrt = 0.000000000000000e+00\n",
        "testing x =    2.000000000000000\n",
        "s = 1.414213562373095e+00, numpy sqrt = 1.414213562373095e+00\n",
        "testing x =  100.000000000000000\n",
        "s = 1.000000000000000e+01, numpy sqrt = 1.000000000000000e+01\n",
        "testing x = 10000.000000000000000\n",
        "s = 1.000000000000000e+02, numpy sqrt = 1.000000000000000e+02\n",
        "testing x =    0.000100000000000\n",
        "s = 1.000000000000000e-02, numpy sqrt = 1.000000000000000e-02\n"
       ]
      }
     ],
     "prompt_number": 35
    },
    {
     "cell_type": "code",
     "collapsed": false,
     "input": [
      "mysqrt.__name__"
     ],
     "language": "python",
     "metadata": {},
     "outputs": [
      {
       "output_type": "pyout",
       "prompt_number": 36,
       "text": [
        "'mysqrt'"
       ]
      }
     ],
     "prompt_number": 36
    },
    {
     "cell_type": "code",
     "collapsed": false,
     "input": [
      "# or just run directly:\n",
      "run mysqrt.py"
     ],
     "language": "python",
     "metadata": {},
     "outputs": [
      {
       "output_type": "stream",
       "stream": "stdout",
       "text": [
        "running tests...\n",
        "testing x =    0.000000000000000\n",
        "s = 0.000000000000000e+00, numpy sqrt = 0.000000000000000e+00\n",
        "testing x =    2.000000000000000\n",
        "s = 1.414213562373095e+00, numpy sqrt = 1.414213562373095e+00\n",
        "testing x =  100.000000000000000\n",
        "s = 1.000000000000000e+01, numpy sqrt = 1.000000000000000e+01\n",
        "testing x = 10000.000000000000000\n",
        "s = 1.000000000000000e+02, numpy sqrt = 1.000000000000000e+02\n",
        "testing x =    0.000100000000000\n",
        "s = 1.000000000000000e-02, numpy sqrt = 1.000000000000000e-02\n"
       ]
      }
     ],
     "prompt_number": 37
    },
    {
     "cell_type": "heading",
     "level": 3,
     "metadata": {},
     "source": [
      "Timing things"
     ]
    },
    {
     "cell_type": "code",
     "collapsed": false,
     "input": [
      "time sqrt(2.) # this is a way to time a single thing."
     ],
     "language": "python",
     "metadata": {},
     "outputs": [
      {
       "output_type": "stream",
       "stream": "stdout",
       "text": [
        "CPU times: user 0.00 s, sys: 0.00 s, total: 0.00 s\n",
        "Wall time: 0.00 s\n"
       ]
      },
      {
       "output_type": "pyout",
       "prompt_number": 56,
       "text": [
        "1.4142135623730951"
       ]
      }
     ],
     "prompt_number": 56
    },
    {
     "cell_type": "code",
     "collapsed": false,
     "input": [
      "timeit sqrt(2.) # this is how to loop a bunch of time and average the results."
     ],
     "language": "python",
     "metadata": {},
     "outputs": [
      {
       "output_type": "stream",
       "stream": "stdout",
       "text": [
        "100000 loops, best of 3: 1.94 us per loop\n"
       ]
      }
     ],
     "prompt_number": 57
    },
    {
     "cell_type": "code",
     "collapsed": false,
     "input": [
      "timeit mysqrt.sqrt2(2.) "
     ],
     "language": "python",
     "metadata": {},
     "outputs": [
      {
       "output_type": "stream",
       "stream": "stdout",
       "text": [
        "100000 loops, best of 3: 5.46 us per loop\n"
       ]
      }
     ],
     "prompt_number": 51
    },
    {
     "cell_type": "code",
     "collapsed": false,
     "input": [
      "timeit y = sqrt(linspace(0,1,1000)) # vectorized form is super fast, same as in R."
     ],
     "language": "python",
     "metadata": {},
     "outputs": [
      {
       "output_type": "stream",
       "stream": "stdout",
       "text": [
        "10000 loops, best of 3: 21.9 us per loop\n"
       ]
      }
     ],
     "prompt_number": 53
    },
    {
     "cell_type": "markdown",
     "metadata": {},
     "source": [
      "This %%timeit keyword is specific to ipython notebook."
     ]
    },
    {
     "cell_type": "code",
     "collapsed": false,
     "input": [
      "%%timeit\n",
      "y = zeros(1000)\n",
      "for i in range(1000): # looping manually is really slow, same as in R. \n",
      "    y[i] = sqrt(i)"
     ],
     "language": "python",
     "metadata": {},
     "outputs": [
      {
       "output_type": "stream",
       "stream": "stdout",
       "text": [
        "100 loops, best of 3: 3.15 ms per loop\n"
       ]
      }
     ],
     "prompt_number": 55
    },
    {
     "cell_type": "code",
     "collapsed": false,
     "input": [],
     "language": "python",
     "metadata": {},
     "outputs": []
    }
   ],
   "metadata": {}
  }
 ]
}